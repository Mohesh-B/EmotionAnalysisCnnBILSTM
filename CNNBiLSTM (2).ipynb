{
  "cells": [
    {
      "cell_type": "code",
      "execution_count": null,
      "metadata": {
        "id": "B8JY_xcCmnbG"
      },
      "outputs": [],
      "source": [
        "import re # regex\n",
        "import sklearn\n",
        "import pandas as pd # tables\n",
        "import matplotlib.pyplot as plt # plots\n",
        "import seaborn as sns # plots\n",
        "import numpy as np # operations with arrays and matrices\n",
        "from sklearn.model_selection import train_test_split"
      ]
    },
    {
      "cell_type": "code",
      "execution_count": null,
      "metadata": {
        "colab": {
          "base_uri": "https://localhost:8080/",
          "height": 52
        },
        "id": "DPkOalcVM3d1",
        "outputId": "46584ebb-d7d2-467d-b64c-a24de266305a"
      },
      "outputs": [
        {
          "data": {
            "application/vnd.google.colaboratory.intrinsic+json": {
              "type": "string"
            },
            "text/plain": [
              "\"train = pd.read_csv('train.txt', header=None, sep=';', names=['Lines','Emotions'], encoding='utf-8')\\ntest = pd.read_csv('test.txt', header=None, sep =';', names=['Lines','Emotions'], encoding='utf-8')\\nvalidation = pd.read_csv('val.txt', header=None, sep=';', names=['Lines','Emotions'], encoding='utf-8')\""
            ]
          },
          "execution_count": 2,
          "metadata": {},
          "output_type": "execute_result"
        }
      ],
      "source": [
        "# reading the dataset\n",
        "'''train = pd.read_csv('train.txt', header=None, sep=';', names=['Lines','Emotions'], encoding='utf-8')\n",
        "test = pd.read_csv('test.txt', header=None, sep =';', names=['Lines','Emotions'], encoding='utf-8')\n",
        "validation = pd.read_csv('val.txt', header=None, sep=';', names=['Lines','Emotions'], encoding='utf-8')'''"
      ]
    },
    {
      "cell_type": "markdown",
      "metadata": {
        "id": "RG0aPh9dtzSi"
      },
      "source": [
        "K-FOLD CROSS VALIDATION\n"
      ]
    },
    {
      "cell_type": "code",
      "execution_count": null,
      "metadata": {
        "colab": {
          "base_uri": "https://localhost:8080/"
        },
        "id": "zQ4ZaukMiY-_",
        "outputId": "01ef40bc-e2b4-43ad-8aa4-bb22dfd4fdf8"
      },
      "outputs": [
        {
          "name": "stderr",
          "output_type": "stream",
          "text": [
            "<ipython-input-3-34b9baee02cb>:34: SettingWithCopyWarning: \n",
            "A value is trying to be set on a copy of a slice from a DataFrame.\n",
            "Try using .loc[row_indexer,col_indexer] = value instead\n",
            "\n",
            "See the caveats in the documentation: https://pandas.pydata.org/pandas-docs/stable/user_guide/indexing.html#returning-a-view-versus-a-copy\n",
            "  fold_test_data['Labels'] = fold_test_data['Emotions'].replace(emotions_to_labels)\n",
            "<ipython-input-3-34b9baee02cb>:34: SettingWithCopyWarning: \n",
            "A value is trying to be set on a copy of a slice from a DataFrame.\n",
            "Try using .loc[row_indexer,col_indexer] = value instead\n",
            "\n",
            "See the caveats in the documentation: https://pandas.pydata.org/pandas-docs/stable/user_guide/indexing.html#returning-a-view-versus-a-copy\n",
            "  fold_test_data['Labels'] = fold_test_data['Emotions'].replace(emotions_to_labels)\n",
            "<ipython-input-3-34b9baee02cb>:34: SettingWithCopyWarning: \n",
            "A value is trying to be set on a copy of a slice from a DataFrame.\n",
            "Try using .loc[row_indexer,col_indexer] = value instead\n",
            "\n",
            "See the caveats in the documentation: https://pandas.pydata.org/pandas-docs/stable/user_guide/indexing.html#returning-a-view-versus-a-copy\n",
            "  fold_test_data['Labels'] = fold_test_data['Emotions'].replace(emotions_to_labels)\n",
            "<ipython-input-3-34b9baee02cb>:34: SettingWithCopyWarning: \n",
            "A value is trying to be set on a copy of a slice from a DataFrame.\n",
            "Try using .loc[row_indexer,col_indexer] = value instead\n",
            "\n",
            "See the caveats in the documentation: https://pandas.pydata.org/pandas-docs/stable/user_guide/indexing.html#returning-a-view-versus-a-copy\n",
            "  fold_test_data['Labels'] = fold_test_data['Emotions'].replace(emotions_to_labels)\n",
            "<ipython-input-3-34b9baee02cb>:34: SettingWithCopyWarning: \n",
            "A value is trying to be set on a copy of a slice from a DataFrame.\n",
            "Try using .loc[row_indexer,col_indexer] = value instead\n",
            "\n",
            "See the caveats in the documentation: https://pandas.pydata.org/pandas-docs/stable/user_guide/indexing.html#returning-a-view-versus-a-copy\n",
            "  fold_test_data['Labels'] = fold_test_data['Emotions'].replace(emotions_to_labels)\n"
          ]
        }
      ],
      "source": [
        "import pandas as pd\n",
        "from sklearn.model_selection import StratifiedKFold\n",
        "\n",
        "# Define the emotions-to-labels mapping\n",
        "emotions_to_labels = {'anger': 0, 'love': 1, 'fear': 2, 'joy': 3, 'sadness': 4,'surprise': 5}\n",
        "\n",
        "# Read the data from the single CSV file\n",
        "data = pd.read_csv('data.txt', header=None, sep=';', names=['Lines','Emotions'], encoding='utf-8')\n",
        "\n",
        "# Shuffle the data randomly\n",
        "data = data.sample(frac=1, random_state=42).reset_index(drop=True)\n",
        "\n",
        "# Define the number of folds (e.g., 5-fold cross-validation)\n",
        "num_folds = 5\n",
        "skf = StratifiedKFold(n_splits=num_folds, shuffle=True, random_state=42)\n",
        "\n",
        "# Initialize empty DataFrames for train, test, and validation\n",
        "train_data = pd.DataFrame(columns=['Emotions', 'Lines', 'Labels'])\n",
        "test_data = pd.DataFrame(columns=['Emotions', 'Lines', 'Labels'])\n",
        "validation_data = pd.DataFrame(columns=['Emotions', 'Lines', 'Labels'])\n",
        "\n",
        "# Iterate through the folds\n",
        "for train_index, test_index in skf.split(data['Lines'], data['Emotions']):\n",
        "    fold_train_data = data.iloc[train_index]\n",
        "    fold_test_data = data.iloc[test_index]\n",
        "\n",
        "    # Split the fold_train_data into train and validation sets (e.g., 80-20 split)\n",
        "    fold_train_size = int(len(fold_train_data) * 0.8)\n",
        "    fold_validation_data = fold_train_data.iloc[fold_train_size:]\n",
        "    fold_train_data = fold_train_data.iloc[:fold_train_size]\n",
        "\n",
        "    # Map emotions to labels for each fold\n",
        "    fold_train_data['Labels'] = fold_train_data['Emotions'].replace(emotions_to_labels)\n",
        "    fold_test_data['Labels'] = fold_test_data['Emotions'].replace(emotions_to_labels)\n",
        "    fold_validation_data['Labels'] = fold_validation_data['Emotions'].replace(emotions_to_labels)\n",
        "\n",
        "    # Concatenate fold data to the respective DataFrames\n",
        "    train_data = pd.concat([train_data, fold_train_data], ignore_index=True)\n",
        "    test_data = pd.concat([test_data, fold_test_data], ignore_index=True)\n",
        "    validation_data = pd.concat([validation_data, fold_validation_data], ignore_index=True)\n",
        "\n",
        "# Now, you have train_data, test_data, and validation_data as pandas DataFrames'''\n"
      ]
    },
    {
      "cell_type": "code",
      "execution_count": null,
      "metadata": {
        "colab": {
          "base_uri": "https://localhost:8080/",
          "height": 363
        },
        "id": "dnqgep6hu3Be",
        "outputId": "6a40fe31-7bf0-4781-da87-8760552571fc"
      },
      "outputs": [
        {
          "data": {
            "text/html": [
              "\n",
              "  <div id=\"df-bb12ad0a-b309-4802-b055-62303e1af643\" class=\"colab-df-container\">\n",
              "    <div>\n",
              "<style scoped>\n",
              "    .dataframe tbody tr th:only-of-type {\n",
              "        vertical-align: middle;\n",
              "    }\n",
              "\n",
              "    .dataframe tbody tr th {\n",
              "        vertical-align: top;\n",
              "    }\n",
              "\n",
              "    .dataframe thead th {\n",
              "        text-align: right;\n",
              "    }\n",
              "</style>\n",
              "<table border=\"1\" class=\"dataframe\">\n",
              "  <thead>\n",
              "    <tr style=\"text-align: right;\">\n",
              "      <th></th>\n",
              "      <th>Lines</th>\n",
              "      <th>Emotions</th>\n",
              "    </tr>\n",
              "  </thead>\n",
              "  <tbody>\n",
              "    <tr>\n",
              "      <th>0</th>\n",
              "      <td>i feel assured that foods that are grown organ...</td>\n",
              "      <td>joy</td>\n",
              "    </tr>\n",
              "    <tr>\n",
              "      <th>1</th>\n",
              "      <td>i already have my christmas trees up i got two...</td>\n",
              "      <td>joy</td>\n",
              "    </tr>\n",
              "    <tr>\n",
              "      <th>2</th>\n",
              "      <td>i feel all betrayed and disillusioned</td>\n",
              "      <td>sadness</td>\n",
              "    </tr>\n",
              "    <tr>\n",
              "      <th>3</th>\n",
              "      <td>i will tell you that i am feeling quite invigo...</td>\n",
              "      <td>joy</td>\n",
              "    </tr>\n",
              "    <tr>\n",
              "      <th>4</th>\n",
              "      <td>i start to feel less exhausted the bits and pi...</td>\n",
              "      <td>sadness</td>\n",
              "    </tr>\n",
              "    <tr>\n",
              "      <th>5</th>\n",
              "      <td>i was listening to belle and sebastian feeling...</td>\n",
              "      <td>fear</td>\n",
              "    </tr>\n",
              "    <tr>\n",
              "      <th>6</th>\n",
              "      <td>i be able to look them in the face again witho...</td>\n",
              "      <td>sadness</td>\n",
              "    </tr>\n",
              "    <tr>\n",
              "      <th>7</th>\n",
              "      <td>i am thankful for feeling useful</td>\n",
              "      <td>joy</td>\n",
              "    </tr>\n",
              "    <tr>\n",
              "      <th>8</th>\n",
              "      <td>i woke up feeling artistic ish</td>\n",
              "      <td>joy</td>\n",
              "    </tr>\n",
              "    <tr>\n",
              "      <th>9</th>\n",
              "      <td>i was taunted by the ability of feeling threat...</td>\n",
              "      <td>fear</td>\n",
              "    </tr>\n",
              "  </tbody>\n",
              "</table>\n",
              "</div>\n",
              "    <div class=\"colab-df-buttons\">\n",
              "\n",
              "  <div class=\"colab-df-container\">\n",
              "    <button class=\"colab-df-convert\" onclick=\"convertToInteractive('df-bb12ad0a-b309-4802-b055-62303e1af643')\"\n",
              "            title=\"Convert this dataframe to an interactive table.\"\n",
              "            style=\"display:none;\">\n",
              "\n",
              "  <svg xmlns=\"http://www.w3.org/2000/svg\" height=\"24px\" viewBox=\"0 -960 960 960\">\n",
              "    <path d=\"M120-120v-720h720v720H120Zm60-500h600v-160H180v160Zm220 220h160v-160H400v160Zm0 220h160v-160H400v160ZM180-400h160v-160H180v160Zm440 0h160v-160H620v160ZM180-180h160v-160H180v160Zm440 0h160v-160H620v160Z\"/>\n",
              "  </svg>\n",
              "    </button>\n",
              "\n",
              "  <style>\n",
              "    .colab-df-container {\n",
              "      display:flex;\n",
              "      gap: 12px;\n",
              "    }\n",
              "\n",
              "    .colab-df-convert {\n",
              "      background-color: #E8F0FE;\n",
              "      border: none;\n",
              "      border-radius: 50%;\n",
              "      cursor: pointer;\n",
              "      display: none;\n",
              "      fill: #1967D2;\n",
              "      height: 32px;\n",
              "      padding: 0 0 0 0;\n",
              "      width: 32px;\n",
              "    }\n",
              "\n",
              "    .colab-df-convert:hover {\n",
              "      background-color: #E2EBFA;\n",
              "      box-shadow: 0px 1px 2px rgba(60, 64, 67, 0.3), 0px 1px 3px 1px rgba(60, 64, 67, 0.15);\n",
              "      fill: #174EA6;\n",
              "    }\n",
              "\n",
              "    .colab-df-buttons div {\n",
              "      margin-bottom: 4px;\n",
              "    }\n",
              "\n",
              "    [theme=dark] .colab-df-convert {\n",
              "      background-color: #3B4455;\n",
              "      fill: #D2E3FC;\n",
              "    }\n",
              "\n",
              "    [theme=dark] .colab-df-convert:hover {\n",
              "      background-color: #434B5C;\n",
              "      box-shadow: 0px 1px 3px 1px rgba(0, 0, 0, 0.15);\n",
              "      filter: drop-shadow(0px 1px 2px rgba(0, 0, 0, 0.3));\n",
              "      fill: #FFFFFF;\n",
              "    }\n",
              "  </style>\n",
              "\n",
              "    <script>\n",
              "      const buttonEl =\n",
              "        document.querySelector('#df-bb12ad0a-b309-4802-b055-62303e1af643 button.colab-df-convert');\n",
              "      buttonEl.style.display =\n",
              "        google.colab.kernel.accessAllowed ? 'block' : 'none';\n",
              "\n",
              "      async function convertToInteractive(key) {\n",
              "        const element = document.querySelector('#df-bb12ad0a-b309-4802-b055-62303e1af643');\n",
              "        const dataTable =\n",
              "          await google.colab.kernel.invokeFunction('convertToInteractive',\n",
              "                                                    [key], {});\n",
              "        if (!dataTable) return;\n",
              "\n",
              "        const docLinkHtml = 'Like what you see? Visit the ' +\n",
              "          '<a target=\"_blank\" href=https://colab.research.google.com/notebooks/data_table.ipynb>data table notebook</a>'\n",
              "          + ' to learn more about interactive tables.';\n",
              "        element.innerHTML = '';\n",
              "        dataTable['output_type'] = 'display_data';\n",
              "        await google.colab.output.renderOutput(dataTable, element);\n",
              "        const docLink = document.createElement('div');\n",
              "        docLink.innerHTML = docLinkHtml;\n",
              "        element.appendChild(docLink);\n",
              "      }\n",
              "    </script>\n",
              "  </div>\n",
              "\n",
              "\n",
              "<div id=\"df-f957a608-2ba3-4f1d-86d0-a56f5373308d\">\n",
              "  <button class=\"colab-df-quickchart\" onclick=\"quickchart('df-f957a608-2ba3-4f1d-86d0-a56f5373308d')\"\n",
              "            title=\"Suggest charts.\"\n",
              "            style=\"display:none;\">\n",
              "\n",
              "<svg xmlns=\"http://www.w3.org/2000/svg\" height=\"24px\"viewBox=\"0 0 24 24\"\n",
              "     width=\"24px\">\n",
              "    <g>\n",
              "        <path d=\"M19 3H5c-1.1 0-2 .9-2 2v14c0 1.1.9 2 2 2h14c1.1 0 2-.9 2-2V5c0-1.1-.9-2-2-2zM9 17H7v-7h2v7zm4 0h-2V7h2v10zm4 0h-2v-4h2v4z\"/>\n",
              "    </g>\n",
              "</svg>\n",
              "  </button>\n",
              "\n",
              "<style>\n",
              "  .colab-df-quickchart {\n",
              "      --bg-color: #E8F0FE;\n",
              "      --fill-color: #1967D2;\n",
              "      --hover-bg-color: #E2EBFA;\n",
              "      --hover-fill-color: #174EA6;\n",
              "      --disabled-fill-color: #AAA;\n",
              "      --disabled-bg-color: #DDD;\n",
              "  }\n",
              "\n",
              "  [theme=dark] .colab-df-quickchart {\n",
              "      --bg-color: #3B4455;\n",
              "      --fill-color: #D2E3FC;\n",
              "      --hover-bg-color: #434B5C;\n",
              "      --hover-fill-color: #FFFFFF;\n",
              "      --disabled-bg-color: #3B4455;\n",
              "      --disabled-fill-color: #666;\n",
              "  }\n",
              "\n",
              "  .colab-df-quickchart {\n",
              "    background-color: var(--bg-color);\n",
              "    border: none;\n",
              "    border-radius: 50%;\n",
              "    cursor: pointer;\n",
              "    display: none;\n",
              "    fill: var(--fill-color);\n",
              "    height: 32px;\n",
              "    padding: 0;\n",
              "    width: 32px;\n",
              "  }\n",
              "\n",
              "  .colab-df-quickchart:hover {\n",
              "    background-color: var(--hover-bg-color);\n",
              "    box-shadow: 0 1px 2px rgba(60, 64, 67, 0.3), 0 1px 3px 1px rgba(60, 64, 67, 0.15);\n",
              "    fill: var(--button-hover-fill-color);\n",
              "  }\n",
              "\n",
              "  .colab-df-quickchart-complete:disabled,\n",
              "  .colab-df-quickchart-complete:disabled:hover {\n",
              "    background-color: var(--disabled-bg-color);\n",
              "    fill: var(--disabled-fill-color);\n",
              "    box-shadow: none;\n",
              "  }\n",
              "\n",
              "  .colab-df-spinner {\n",
              "    border: 2px solid var(--fill-color);\n",
              "    border-color: transparent;\n",
              "    border-bottom-color: var(--fill-color);\n",
              "    animation:\n",
              "      spin 1s steps(1) infinite;\n",
              "  }\n",
              "\n",
              "  @keyframes spin {\n",
              "    0% {\n",
              "      border-color: transparent;\n",
              "      border-bottom-color: var(--fill-color);\n",
              "      border-left-color: var(--fill-color);\n",
              "    }\n",
              "    20% {\n",
              "      border-color: transparent;\n",
              "      border-left-color: var(--fill-color);\n",
              "      border-top-color: var(--fill-color);\n",
              "    }\n",
              "    30% {\n",
              "      border-color: transparent;\n",
              "      border-left-color: var(--fill-color);\n",
              "      border-top-color: var(--fill-color);\n",
              "      border-right-color: var(--fill-color);\n",
              "    }\n",
              "    40% {\n",
              "      border-color: transparent;\n",
              "      border-right-color: var(--fill-color);\n",
              "      border-top-color: var(--fill-color);\n",
              "    }\n",
              "    60% {\n",
              "      border-color: transparent;\n",
              "      border-right-color: var(--fill-color);\n",
              "    }\n",
              "    80% {\n",
              "      border-color: transparent;\n",
              "      border-right-color: var(--fill-color);\n",
              "      border-bottom-color: var(--fill-color);\n",
              "    }\n",
              "    90% {\n",
              "      border-color: transparent;\n",
              "      border-bottom-color: var(--fill-color);\n",
              "    }\n",
              "  }\n",
              "</style>\n",
              "\n",
              "  <script>\n",
              "    async function quickchart(key) {\n",
              "      const quickchartButtonEl =\n",
              "        document.querySelector('#' + key + ' button');\n",
              "      quickchartButtonEl.disabled = true;  // To prevent multiple clicks.\n",
              "      quickchartButtonEl.classList.add('colab-df-spinner');\n",
              "      try {\n",
              "        const charts = await google.colab.kernel.invokeFunction(\n",
              "            'suggestCharts', [key], {});\n",
              "      } catch (error) {\n",
              "        console.error('Error during call to suggestCharts:', error);\n",
              "      }\n",
              "      quickchartButtonEl.classList.remove('colab-df-spinner');\n",
              "      quickchartButtonEl.classList.add('colab-df-quickchart-complete');\n",
              "    }\n",
              "    (() => {\n",
              "      let quickchartButtonEl =\n",
              "        document.querySelector('#df-f957a608-2ba3-4f1d-86d0-a56f5373308d button');\n",
              "      quickchartButtonEl.style.display =\n",
              "        google.colab.kernel.accessAllowed ? 'block' : 'none';\n",
              "    })();\n",
              "  </script>\n",
              "</div>\n",
              "    </div>\n",
              "  </div>\n"
            ],
            "text/plain": [
              "                                               Lines Emotions\n",
              "0  i feel assured that foods that are grown organ...      joy\n",
              "1  i already have my christmas trees up i got two...      joy\n",
              "2              i feel all betrayed and disillusioned  sadness\n",
              "3  i will tell you that i am feeling quite invigo...      joy\n",
              "4  i start to feel less exhausted the bits and pi...  sadness\n",
              "5  i was listening to belle and sebastian feeling...     fear\n",
              "6  i be able to look them in the face again witho...  sadness\n",
              "7                   i am thankful for feeling useful      joy\n",
              "8                     i woke up feeling artistic ish      joy\n",
              "9  i was taunted by the ability of feeling threat...     fear"
            ]
          },
          "execution_count": 4,
          "metadata": {},
          "output_type": "execute_result"
        }
      ],
      "source": [
        "data.head(10)"
      ]
    },
    {
      "cell_type": "code",
      "execution_count": null,
      "metadata": {
        "id": "ZWqeEZvwjcty"
      },
      "outputs": [],
      "source": [
        "# After concatenating the data, rename the DataFrames\n",
        "train = train_data\n",
        "test = test_data\n",
        "validation = validation_data\n",
        "\n",
        "# Now, you have train, test, and validation as pandas DataFrames\n"
      ]
    },
    {
      "cell_type": "code",
      "execution_count": null,
      "metadata": {
        "id": "xFK-hN5QN9X6"
      },
      "outputs": [],
      "source": [
        "# adding a column with encoded emotions\n",
        "emotions_to_labels = {'anger': 0, 'love': 1, 'fear': 2, 'joy': 3, 'sadness': 4,'surprise': 5}\n",
        "labels_to_emotions = {j:i for i,j in emotions_to_labels.items()}\n",
        "\n",
        "train['Labels'] = train['Emotions'].replace(emotions_to_labels)\n",
        "test['Labels'] = test['Emotions'].replace(emotions_to_labels)\n",
        "validation['Labels'] = validation['Emotions'].replace(emotions_to_labels)"
      ]
    },
    {
      "cell_type": "code",
      "execution_count": null,
      "metadata": {
        "colab": {
          "base_uri": "https://localhost:8080/",
          "height": 70
        },
        "id": "KJkZzoF0jd42",
        "outputId": "bb4684da-633e-42a7-d701-552c070a59ed"
      },
      "outputs": [
        {
          "data": {
            "application/vnd.google.colaboratory.intrinsic+json": {
              "type": "string"
            },
            "text/plain": [
              "\"\\nemotions_to_labels = {'anger': 0, 'love': 1, 'fear': 2, 'joy': 3, 'sadness': 4,'surprise': 5}\\nlabels_to_emotions = {j:i for i,j in emotions_to_labels.items()}\\n\\ntrain['Labels'] = train['Emotions'].replace(emotions_to_labels)\\ntest['Labels'] = test['Emotions'].replace(emotions_to_labels)\\nvalidation['Labels'] = validation['Emotions'].replace(emotions_to_labels)\""
            ]
          },
          "execution_count": 7,
          "metadata": {},
          "output_type": "execute_result"
        }
      ],
      "source": [
        "# adding a column with encoded emotions\n",
        "labels_to_emotions = {j:i for i,j in emotions_to_labels.items()}\n",
        "emotions_to_labels = {'anger': 0, 'love': 1, 'fear': 2, 'joy': 3, 'sadness': 4,'surprise': 5}\n",
        "train['Labels'] = train['Emotions'].replace(emotions_to_labels)\n",
        "test['Labels'] = test['Emotions'].replace(emotions_to_labels)\n",
        "validation['Labels'] = validation['Emotions'].replace(emotions_to_labels)\n",
        "'''\n",
        "emotions_to_labels = {'anger': 0, 'love': 1, 'fear': 2, 'joy': 3, 'sadness': 4,'surprise': 5}\n",
        "labels_to_emotions = {j:i for i,j in emotions_to_labels.items()}\n",
        "\n",
        "train['Labels'] = train['Emotions'].replace(emotions_to_labels)\n",
        "test['Labels'] = test['Emotions'].replace(emotions_to_labels)\n",
        "validation['Labels'] = validation['Emotions'].replace(emotions_to_labels)'''"
      ]
    },
    {
      "cell_type": "code",
      "execution_count": null,
      "metadata": {
        "colab": {
          "base_uri": "https://localhost:8080/",
          "height": 206
        },
        "id": "x7RBfLYkmnbI",
        "outputId": "4557e3b5-d2c6-43aa-96cc-fadf5035eeca"
      },
      "outputs": [
        {
          "data": {
            "text/html": [
              "\n",
              "  <div id=\"df-7cdfa992-43fa-4dcf-91f5-508396d00f14\" class=\"colab-df-container\">\n",
              "    <div>\n",
              "<style scoped>\n",
              "    .dataframe tbody tr th:only-of-type {\n",
              "        vertical-align: middle;\n",
              "    }\n",
              "\n",
              "    .dataframe tbody tr th {\n",
              "        vertical-align: top;\n",
              "    }\n",
              "\n",
              "    .dataframe thead th {\n",
              "        text-align: right;\n",
              "    }\n",
              "</style>\n",
              "<table border=\"1\" class=\"dataframe\">\n",
              "  <thead>\n",
              "    <tr style=\"text-align: right;\">\n",
              "      <th></th>\n",
              "      <th>Emotions</th>\n",
              "      <th>Lines</th>\n",
              "      <th>Labels</th>\n",
              "    </tr>\n",
              "  </thead>\n",
              "  <tbody>\n",
              "    <tr>\n",
              "      <th>0</th>\n",
              "      <td>joy</td>\n",
              "      <td>i feel assured that foods that are grown organ...</td>\n",
              "      <td>3</td>\n",
              "    </tr>\n",
              "    <tr>\n",
              "      <th>1</th>\n",
              "      <td>joy</td>\n",
              "      <td>i already have my christmas trees up i got two...</td>\n",
              "      <td>3</td>\n",
              "    </tr>\n",
              "    <tr>\n",
              "      <th>2</th>\n",
              "      <td>sadness</td>\n",
              "      <td>i feel all betrayed and disillusioned</td>\n",
              "      <td>4</td>\n",
              "    </tr>\n",
              "    <tr>\n",
              "      <th>3</th>\n",
              "      <td>joy</td>\n",
              "      <td>i will tell you that i am feeling quite invigo...</td>\n",
              "      <td>3</td>\n",
              "    </tr>\n",
              "    <tr>\n",
              "      <th>4</th>\n",
              "      <td>fear</td>\n",
              "      <td>i was listening to belle and sebastian feeling...</td>\n",
              "      <td>2</td>\n",
              "    </tr>\n",
              "  </tbody>\n",
              "</table>\n",
              "</div>\n",
              "    <div class=\"colab-df-buttons\">\n",
              "\n",
              "  <div class=\"colab-df-container\">\n",
              "    <button class=\"colab-df-convert\" onclick=\"convertToInteractive('df-7cdfa992-43fa-4dcf-91f5-508396d00f14')\"\n",
              "            title=\"Convert this dataframe to an interactive table.\"\n",
              "            style=\"display:none;\">\n",
              "\n",
              "  <svg xmlns=\"http://www.w3.org/2000/svg\" height=\"24px\" viewBox=\"0 -960 960 960\">\n",
              "    <path d=\"M120-120v-720h720v720H120Zm60-500h600v-160H180v160Zm220 220h160v-160H400v160Zm0 220h160v-160H400v160ZM180-400h160v-160H180v160Zm440 0h160v-160H620v160ZM180-180h160v-160H180v160Zm440 0h160v-160H620v160Z\"/>\n",
              "  </svg>\n",
              "    </button>\n",
              "\n",
              "  <style>\n",
              "    .colab-df-container {\n",
              "      display:flex;\n",
              "      gap: 12px;\n",
              "    }\n",
              "\n",
              "    .colab-df-convert {\n",
              "      background-color: #E8F0FE;\n",
              "      border: none;\n",
              "      border-radius: 50%;\n",
              "      cursor: pointer;\n",
              "      display: none;\n",
              "      fill: #1967D2;\n",
              "      height: 32px;\n",
              "      padding: 0 0 0 0;\n",
              "      width: 32px;\n",
              "    }\n",
              "\n",
              "    .colab-df-convert:hover {\n",
              "      background-color: #E2EBFA;\n",
              "      box-shadow: 0px 1px 2px rgba(60, 64, 67, 0.3), 0px 1px 3px 1px rgba(60, 64, 67, 0.15);\n",
              "      fill: #174EA6;\n",
              "    }\n",
              "\n",
              "    .colab-df-buttons div {\n",
              "      margin-bottom: 4px;\n",
              "    }\n",
              "\n",
              "    [theme=dark] .colab-df-convert {\n",
              "      background-color: #3B4455;\n",
              "      fill: #D2E3FC;\n",
              "    }\n",
              "\n",
              "    [theme=dark] .colab-df-convert:hover {\n",
              "      background-color: #434B5C;\n",
              "      box-shadow: 0px 1px 3px 1px rgba(0, 0, 0, 0.15);\n",
              "      filter: drop-shadow(0px 1px 2px rgba(0, 0, 0, 0.3));\n",
              "      fill: #FFFFFF;\n",
              "    }\n",
              "  </style>\n",
              "\n",
              "    <script>\n",
              "      const buttonEl =\n",
              "        document.querySelector('#df-7cdfa992-43fa-4dcf-91f5-508396d00f14 button.colab-df-convert');\n",
              "      buttonEl.style.display =\n",
              "        google.colab.kernel.accessAllowed ? 'block' : 'none';\n",
              "\n",
              "      async function convertToInteractive(key) {\n",
              "        const element = document.querySelector('#df-7cdfa992-43fa-4dcf-91f5-508396d00f14');\n",
              "        const dataTable =\n",
              "          await google.colab.kernel.invokeFunction('convertToInteractive',\n",
              "                                                    [key], {});\n",
              "        if (!dataTable) return;\n",
              "\n",
              "        const docLinkHtml = 'Like what you see? Visit the ' +\n",
              "          '<a target=\"_blank\" href=https://colab.research.google.com/notebooks/data_table.ipynb>data table notebook</a>'\n",
              "          + ' to learn more about interactive tables.';\n",
              "        element.innerHTML = '';\n",
              "        dataTable['output_type'] = 'display_data';\n",
              "        await google.colab.output.renderOutput(dataTable, element);\n",
              "        const docLink = document.createElement('div');\n",
              "        docLink.innerHTML = docLinkHtml;\n",
              "        element.appendChild(docLink);\n",
              "      }\n",
              "    </script>\n",
              "  </div>\n",
              "\n",
              "\n",
              "<div id=\"df-a4ff2883-1f52-4850-9333-ad1699416904\">\n",
              "  <button class=\"colab-df-quickchart\" onclick=\"quickchart('df-a4ff2883-1f52-4850-9333-ad1699416904')\"\n",
              "            title=\"Suggest charts.\"\n",
              "            style=\"display:none;\">\n",
              "\n",
              "<svg xmlns=\"http://www.w3.org/2000/svg\" height=\"24px\"viewBox=\"0 0 24 24\"\n",
              "     width=\"24px\">\n",
              "    <g>\n",
              "        <path d=\"M19 3H5c-1.1 0-2 .9-2 2v14c0 1.1.9 2 2 2h14c1.1 0 2-.9 2-2V5c0-1.1-.9-2-2-2zM9 17H7v-7h2v7zm4 0h-2V7h2v10zm4 0h-2v-4h2v4z\"/>\n",
              "    </g>\n",
              "</svg>\n",
              "  </button>\n",
              "\n",
              "<style>\n",
              "  .colab-df-quickchart {\n",
              "      --bg-color: #E8F0FE;\n",
              "      --fill-color: #1967D2;\n",
              "      --hover-bg-color: #E2EBFA;\n",
              "      --hover-fill-color: #174EA6;\n",
              "      --disabled-fill-color: #AAA;\n",
              "      --disabled-bg-color: #DDD;\n",
              "  }\n",
              "\n",
              "  [theme=dark] .colab-df-quickchart {\n",
              "      --bg-color: #3B4455;\n",
              "      --fill-color: #D2E3FC;\n",
              "      --hover-bg-color: #434B5C;\n",
              "      --hover-fill-color: #FFFFFF;\n",
              "      --disabled-bg-color: #3B4455;\n",
              "      --disabled-fill-color: #666;\n",
              "  }\n",
              "\n",
              "  .colab-df-quickchart {\n",
              "    background-color: var(--bg-color);\n",
              "    border: none;\n",
              "    border-radius: 50%;\n",
              "    cursor: pointer;\n",
              "    display: none;\n",
              "    fill: var(--fill-color);\n",
              "    height: 32px;\n",
              "    padding: 0;\n",
              "    width: 32px;\n",
              "  }\n",
              "\n",
              "  .colab-df-quickchart:hover {\n",
              "    background-color: var(--hover-bg-color);\n",
              "    box-shadow: 0 1px 2px rgba(60, 64, 67, 0.3), 0 1px 3px 1px rgba(60, 64, 67, 0.15);\n",
              "    fill: var(--button-hover-fill-color);\n",
              "  }\n",
              "\n",
              "  .colab-df-quickchart-complete:disabled,\n",
              "  .colab-df-quickchart-complete:disabled:hover {\n",
              "    background-color: var(--disabled-bg-color);\n",
              "    fill: var(--disabled-fill-color);\n",
              "    box-shadow: none;\n",
              "  }\n",
              "\n",
              "  .colab-df-spinner {\n",
              "    border: 2px solid var(--fill-color);\n",
              "    border-color: transparent;\n",
              "    border-bottom-color: var(--fill-color);\n",
              "    animation:\n",
              "      spin 1s steps(1) infinite;\n",
              "  }\n",
              "\n",
              "  @keyframes spin {\n",
              "    0% {\n",
              "      border-color: transparent;\n",
              "      border-bottom-color: var(--fill-color);\n",
              "      border-left-color: var(--fill-color);\n",
              "    }\n",
              "    20% {\n",
              "      border-color: transparent;\n",
              "      border-left-color: var(--fill-color);\n",
              "      border-top-color: var(--fill-color);\n",
              "    }\n",
              "    30% {\n",
              "      border-color: transparent;\n",
              "      border-left-color: var(--fill-color);\n",
              "      border-top-color: var(--fill-color);\n",
              "      border-right-color: var(--fill-color);\n",
              "    }\n",
              "    40% {\n",
              "      border-color: transparent;\n",
              "      border-right-color: var(--fill-color);\n",
              "      border-top-color: var(--fill-color);\n",
              "    }\n",
              "    60% {\n",
              "      border-color: transparent;\n",
              "      border-right-color: var(--fill-color);\n",
              "    }\n",
              "    80% {\n",
              "      border-color: transparent;\n",
              "      border-right-color: var(--fill-color);\n",
              "      border-bottom-color: var(--fill-color);\n",
              "    }\n",
              "    90% {\n",
              "      border-color: transparent;\n",
              "      border-bottom-color: var(--fill-color);\n",
              "    }\n",
              "  }\n",
              "</style>\n",
              "\n",
              "  <script>\n",
              "    async function quickchart(key) {\n",
              "      const quickchartButtonEl =\n",
              "        document.querySelector('#' + key + ' button');\n",
              "      quickchartButtonEl.disabled = true;  // To prevent multiple clicks.\n",
              "      quickchartButtonEl.classList.add('colab-df-spinner');\n",
              "      try {\n",
              "        const charts = await google.colab.kernel.invokeFunction(\n",
              "            'suggestCharts', [key], {});\n",
              "      } catch (error) {\n",
              "        console.error('Error during call to suggestCharts:', error);\n",
              "      }\n",
              "      quickchartButtonEl.classList.remove('colab-df-spinner');\n",
              "      quickchartButtonEl.classList.add('colab-df-quickchart-complete');\n",
              "    }\n",
              "    (() => {\n",
              "      let quickchartButtonEl =\n",
              "        document.querySelector('#df-a4ff2883-1f52-4850-9333-ad1699416904 button');\n",
              "      quickchartButtonEl.style.display =\n",
              "        google.colab.kernel.accessAllowed ? 'block' : 'none';\n",
              "    })();\n",
              "  </script>\n",
              "</div>\n",
              "    </div>\n",
              "  </div>\n"
            ],
            "text/plain": [
              "  Emotions                                              Lines  Labels\n",
              "0      joy  i feel assured that foods that are grown organ...       3\n",
              "1      joy  i already have my christmas trees up i got two...       3\n",
              "2  sadness              i feel all betrayed and disillusioned       4\n",
              "3      joy  i will tell you that i am feeling quite invigo...       3\n",
              "4     fear  i was listening to belle and sebastian feeling...       2"
            ]
          },
          "execution_count": 8,
          "metadata": {},
          "output_type": "execute_result"
        }
      ],
      "source": [
        "train.head()"
      ]
    },
    {
      "cell_type": "code",
      "execution_count": null,
      "metadata": {
        "id": "-L_VIzPaU92r"
      },
      "outputs": [],
      "source": [
        "def visualize_labels_distribution(df, title='the'):\n",
        "  '''\n",
        "  Accepts a dataframe with 'Emotions' column and dataset title (e.g. 'train')\n",
        "  Creates bar chart with num of elements of each category\n",
        "  Returns nothing\n",
        "\n",
        "  '''\n",
        "  # create a pandas series with labels and their counts\n",
        "  num_labels = df['Emotions'].value_counts()\n",
        "\n",
        "  # num of unique categories\n",
        "  x_barchart = range(df['Emotions'].nunique())\n",
        "  # list of labels\n",
        "  x_barchart_labels = [str(emotions_to_labels[emotion]) +\\\n",
        "                       ' - ' + emotion for emotion in list(num_labels.index)]\n",
        "\n",
        "  # list of counts\n",
        "  y_barchart = list(num_labels.values)\n",
        "\n",
        "  # creating bar chart\n",
        "  plt.figure(figsize = (5, 4))\n",
        "  plt.bar(x_barchart, y_barchart, color='#707bfb')\n",
        "\n",
        "  # adding num of elements for each category on plot as text\n",
        "  for index, data in enumerate(y_barchart):\n",
        "    plt.text(x = index,\n",
        "            y = data+max(y_barchart)/100,\n",
        "            s = '{}'.format(data),\n",
        "            fontdict = dict(fontsize=10),\n",
        "            ha = 'center',)\n",
        "\n",
        "  plt.xticks(x_barchart, x_barchart_labels, rotation=40)\n",
        "  plt.title('Num of elements of each category for {} dataset'.format(title))\n",
        "  plt.tight_layout()\n",
        "\n",
        "  print('There are {} records in the dataset.\\n'.format(len(df.index)))\n",
        "\n",
        "  plt.show()"
      ]
    },
    {
      "cell_type": "code",
      "execution_count": null,
      "metadata": {
        "colab": {
          "base_uri": "https://localhost:8080/",
          "height": 1000
        },
        "id": "fKlxnnNeU-9l",
        "outputId": "67bee6cc-4e39-4c41-ebd2-6b2bdc1d03c6"
      },
      "outputs": [
        {
          "name": "stdout",
          "output_type": "stream",
          "text": [
            "There are 64000 records in the dataset.\n",
            "\n"
          ]
        },
        {
          "data": {
            "image/png": "[encoded data removed]",
            "text/plain": [
              "<Figure size 500x400 with 1 Axes>"
            ]
          },
          "metadata": {},
          "output_type": "display_data"
        },
        {
          "name": "stdout",
          "output_type": "stream",
          "text": [
            "There are 20000 records in the dataset.\n",
            "\n"
          ]
        },
        {
          "data": {
            "image/png": "[encoded data removed]",
            "text/plain": [
              "<Figure size 500x400 with 1 Axes>"
            ]
          },
          "metadata": {},
          "output_type": "display_data"
        },
        {
          "name": "stdout",
          "output_type": "stream",
          "text": [
            "There are 16000 records in the dataset.\n",
            "\n"
          ]
        },
        {
          "data": {
            "image/png": "[encoded data removed]",
            "text/plain": [
              "<Figure size 500x400 with 1 Axes>"
            ]
          },
          "metadata": {},
          "output_type": "display_data"
        }
      ],
      "source": [
        "visualize_labels_distribution(train, 'train')\n",
        "visualize_labels_distribution(test, 'test')\n",
        "visualize_labels_distribution(validation, 'val')"
      ]
    },
    {
      "cell_type": "code",
      "execution_count": null,
      "metadata": {
        "colab": {
          "base_uri": "https://localhost:8080/"
        },
        "id": "xlZ7kXi9mnbJ",
        "outputId": "32163c78-0c8f-4d22-8ab7-03ed1282e219"
      },
      "outputs": [
        {
          "name": "stderr",
          "output_type": "stream",
          "text": [
            "[nltk_data] Downloading package punkt to /root/nltk_data...\n",
            "[nltk_data]   Unzipping tokenizers/punkt.zip.\n",
            "[nltk_data] Downloading package stopwords to /root/nltk_data...\n",
            "[nltk_data]   Unzipping corpora/stopwords.zip.\n"
          ]
        }
      ],
      "source": [
        "import nltk\n",
        "nltk.download('punkt')\n",
        "nltk.download('stopwords')\n",
        "from nltk.corpus import stopwords\n",
        "\n",
        "# downloading a set of stop-words\n",
        "STOPWORDS = set(stopwords.words('english'))\n",
        "\n",
        "# tokenizer\n",
        "from nltk.tokenize import word_tokenize"
      ]
    },
    {
      "cell_type": "code",
      "execution_count": null,
      "metadata": {
        "id": "3C1d9IyemnbJ"
      },
      "outputs": [],
      "source": [
        "def text_preprocess(text, stop_words=False):\n",
        "  '''\n",
        "  Accepts text (a single string) and\n",
        "  a parameters of preprocessing\n",
        "  Returns preprocessed text\n",
        "\n",
        "  '''\n",
        "  # clean text from non-words\n",
        "  text = re.sub(r'\\W+', ' ', text).lower()\n",
        "\n",
        "  # tokenize the text\n",
        "  tokens = word_tokenize(text)\n",
        "  if stop_words:\n",
        "    # delete stop_words\n",
        "    tokens = [token for token in tokens if token not in STOPWORDS]\n",
        "\n",
        "  return tokens"
      ]
    },
    {
      "cell_type": "code",
      "execution_count": null,
      "metadata": {
        "colab": {
          "base_uri": "https://localhost:8080/"
        },
        "id": "_erz_bEgmnbK",
        "outputId": "7ea517ef-b657-455c-cdc5-80a171d4b40b"
      },
      "outputs": [
        {
          "name": "stdout",
          "output_type": "stream",
          "text": [
            "Before: \n",
            "  Emotions                                              Lines  Labels\n",
            "0      joy  i feel assured that foods that are grown organ...       3\n",
            "1      joy  i already have my christmas trees up i got two...       3\n",
            "2  sadness              i feel all betrayed and disillusioned       4\n",
            "3      joy  i will tell you that i am feeling quite invigo...       3\n",
            "4     fear  i was listening to belle and sebastian feeling...       2\n",
            "\n",
            "After:\n",
            "(['feel', 'assured', 'foods', 'grown', 'organic', 'free', 'pesticides', 'soil', 'water', 'contaminated', 'good', 'us'], 3)\n",
            "(['already', 'christmas', 'trees', 'got', 'two', 'feeling', 'festive', 'sure', 'spurring', 'get', 'started', 'book'], 3)\n",
            "(['feel', 'betrayed', 'disillusioned'], 4)\n",
            "(['tell', 'feeling', 'quite', 'invigorated'], 3)\n",
            "(['listening', 'belle', 'sebastian', 'feeling', 'agitated'], 2)\n"
          ]
        }
      ],
      "source": [
        "print('Before: ')\n",
        "print(train.head())\n",
        "\n",
        "x_train = [text_preprocess(t, stop_words=True) for t in train['Lines']]\n",
        "y_train = train['Labels'].values\n",
        "\n",
        "print('\\nAfter:')\n",
        "for line_and_label in list(zip(x_train[:5], y_train[:5])):\n",
        "  print(line_and_label)"
      ]
    },
    {
      "cell_type": "code",
      "execution_count": null,
      "metadata": {
        "id": "8IlBRv5UmnbK"
      },
      "outputs": [],
      "source": [
        "x_test = [text_preprocess(t, stop_words=True) for t in test['Lines']]\n",
        "y_test = test['Labels'].values\n",
        "\n",
        "x_validation = [text_preprocess(t, stop_words=True) for t in validation['Lines']]\n",
        "y_validation = validation['Labels'].values"
      ]
    },
    {
      "cell_type": "code",
      "execution_count": null,
      "metadata": {
        "id": "LCoflvlamnbM"
      },
      "outputs": [],
      "source": [
        "from tensorflow.keras.preprocessing.text import Tokenizer\n",
        "from tensorflow.keras.preprocessing.sequence import pad_sequences"
      ]
    },
    {
      "cell_type": "code",
      "execution_count": null,
      "metadata": {
        "id": "7plVxClLmnbN"
      },
      "outputs": [],
      "source": [
        "from gensim.models import Word2Vec\n",
        "model_w2v = Word2Vec(x_train + x_test + x_validation,vector_size=300,min_count = 2).wv"
      ]
    },
    {
      "cell_type": "code",
      "execution_count": null,
      "metadata": {
        "id": "i4gKmmSAmnbN"
      },
      "outputs": [],
      "source": [
        "def create_weight_matrix(model):\n",
        "  '''\n",
        "  Accepts word embedding model\n",
        "  and the second model, if provided\n",
        "  Returns weight matrix of size m*n, where\n",
        "  m - size of the dictionary\n",
        "  n - size of the word embedding vector\n",
        "\n",
        "  '''\n",
        "  vector_size = model.get_vector('like').shape[0]\n",
        "  w_matrix = np.zeros((DICT_SIZE, vector_size))\n",
        "  skipped_words = []\n",
        "\n",
        "  for word, index in tokenizer.word_index.items():\n",
        "    if index < DICT_SIZE:\n",
        "      if word in model.key_to_index:\n",
        "        w_matrix[index] = model.get_vector(word)\n",
        "      else:\n",
        "        skipped_words.append(word)\n",
        "\n",
        "  print(f'{len(skipped_words)} words were skipped. Some of them:')\n",
        "  print(skipped_words[:50])\n",
        "  return w_matrix\n"
      ]
    },
    {
      "cell_type": "code",
      "execution_count": null,
      "metadata": {
        "id": "XRWpMETamnbO"
      },
      "outputs": [],
      "source": [
        "DICT_SIZE = 15000\n",
        "tokenizer = Tokenizer(num_words=DICT_SIZE)\n",
        "total = x_train + x_test + x_validation\n",
        "tokenizer.fit_on_texts(total)\n",
        "\n",
        "x_train_max_len = max([len(i) for i in x_train])\n",
        "x_test_max_len = max([len(i) for i in x_test])\n",
        "x_validation_max_len = max([len(i) for i in x_validation])\n",
        "\n",
        "MAX_LEN = max(x_train_max_len, x_test_max_len, x_validation_max_len)\n",
        "\n",
        "X_train = tokenizer.texts_to_sequences(x_train)\n",
        "X_train_pad = pad_sequences(X_train, maxlen=MAX_LEN)\n",
        "\n",
        "X_test = tokenizer.texts_to_sequences(x_test)\n",
        "X_test_pad = pad_sequences(X_test, maxlen=MAX_LEN)\n",
        "\n",
        "X_val = tokenizer.texts_to_sequences(x_validation)\n",
        "X_val_pad = pad_sequences(X_val, maxlen=MAX_LEN)"
      ]
    },
    {
      "cell_type": "code",
      "execution_count": null,
      "metadata": {
        "colab": {
          "base_uri": "https://localhost:8080/"
        },
        "id": "T83dfyA-mnbO",
        "outputId": "ded9204b-aa1f-4eec-fca2-db8d5fd05138"
      },
      "outputs": [
        {
          "name": "stdout",
          "output_type": "stream",
          "text": [
            "0 words were skipped. Some of them:\n",
            "[]\n",
            "(15000, 300)\n",
            "[[ 0.          0.          0.         ...  0.          0.\n",
            "   0.        ]\n",
            " [-0.32914516  0.0689297   0.59627181 ...  0.16499905  0.38351458\n",
            "   0.18777579]\n",
            " [-0.34609604  0.38001972 -0.17382376 ... -1.12647247  0.65693045\n",
            "  -0.04342413]\n",
            " ...\n",
            " [-0.01116865  0.06057563 -0.01737246 ... -0.02040872  0.04418004\n",
            "  -0.03690318]\n",
            " [-0.01426659  0.05483237 -0.0018278  ... -0.00923205  0.05803693\n",
            "  -0.03352671]\n",
            " [-0.01063087  0.03902679 -0.008418   ... -0.00772282  0.05651659\n",
            "  -0.03261698]]\n"
          ]
        }
      ],
      "source": [
        "DICT_SIZE = 15000\n",
        "weight_matrix = create_weight_matrix(model_w2v)\n",
        "print(weight_matrix.shape)\n",
        "print(weight_matrix)"
      ]
    },
    {
      "cell_type": "code",
      "execution_count": null,
      "metadata": {
        "id": "V_JsH1e5mnbO"
      },
      "outputs": [],
      "source": [
        "# import models, layers, optimizers from tensorflow\n",
        "from tensorflow.keras.models import Sequential, Model\n",
        "from tensorflow.keras.layers import Embedding, LSTM, Bidirectional, Dense, Dropout, GRU, Lambda, Input, Attention, Flatten\n",
        "from tensorflow.keras.optimizers import Adam"
      ]
    },
    {
      "cell_type": "markdown",
      "metadata": {
        "id": "R4-5YX88WL_y"
      },
      "source": [
        "BILSTM"
      ]
    },
    {
      "cell_type": "code",
      "execution_count": null,
      "metadata": {
        "colab": {
          "base_uri": "https://localhost:8080/"
        },
        "id": "fiIYafQHkNE5",
        "outputId": "06d1a276-44f4-4e3c-a1ed-b0ae52d41053"
      },
      "outputs": [
        {
          "name": "stdout",
          "output_type": "stream",
          "text": [
            "Model: \"sequential\"\n",
            "_________________________________________________________________\n",
            " Layer (type)                Output Shape              Param #   \n",
            "=================================================================\n",
            " embedding (Embedding)       (None, 35, 300)           4500000   \n",
            "                                                                 \n",
            " conv1d (Conv1D)             (None, 33, 32)            28832     \n",
            "                                                                 \n",
            " batch_normalization (Batch  (None, 33, 32)            128       \n",
            " Normalization)                                                  \n",
            "                                                                 \n",
            " conv1d_1 (Conv1D)           (None, 31, 32)            3104      \n",
            "                                                                 \n",
            " batch_normalization_1 (Bat  (None, 31, 32)            128       \n",
            " chNormalization)                                                \n",
            "                                                                 \n",
            " conv1d_2 (Conv1D)           (None, 16, 32)            5152      \n",
            "                                                                 \n",
            " batch_normalization_2 (Bat  (None, 16, 32)            128       \n",
            " chNormalization)                                                \n",
            "                                                                 \n",
            " dropout (Dropout)           (None, 16, 32)            0         \n",
            "                                                                 \n",
            " conv1d_3 (Conv1D)           (None, 14, 64)            6208      \n",
            "                                                                 \n",
            " batch_normalization_3 (Bat  (None, 14, 64)            256       \n",
            " chNormalization)                                                \n",
            "                                                                 \n",
            " conv1d_4 (Conv1D)           (None, 12, 64)            12352     \n",
            "                                                                 \n",
            " batch_normalization_4 (Bat  (None, 12, 64)            256       \n",
            " chNormalization)                                                \n",
            "                                                                 \n",
            " conv1d_5 (Conv1D)           (None, 6, 64)             20544     \n",
            "                                                                 \n",
            " batch_normalization_5 (Bat  (None, 6, 64)             256       \n",
            " chNormalization)                                                \n",
            "                                                                 \n",
            " dropout_1 (Dropout)         (None, 6, 64)             0         \n",
            "                                                                 \n",
            " conv1d_6 (Conv1D)           (None, 3, 128)            32896     \n",
            "                                                                 \n",
            " batch_normalization_6 (Bat  (None, 3, 128)            512       \n",
            " chNormalization)                                                \n",
            "                                                                 \n",
            " bidirectional (Bidirection  (None, 3, 256)            263168    \n",
            " al)                                                             \n",
            "                                                                 \n",
            " dropout_2 (Dropout)         (None, 3, 256)            0         \n",
            "                                                                 \n",
            " bidirectional_1 (Bidirecti  (None, 3, 512)            1050624   \n",
            " onal)                                                           \n",
            "                                                                 \n",
            " dropout_3 (Dropout)         (None, 3, 512)            0         \n",
            "                                                                 \n",
            " bidirectional_2 (Bidirecti  (None, 256)               656384    \n",
            " onal)                                                           \n",
            "                                                                 \n",
            " dense (Dense)               (None, 6)                 1542      \n",
            "                                                                 \n",
            "=================================================================\n",
            "Total params: 6582470 (25.11 MB)\n",
            "Trainable params: 2081638 (7.94 MB)\n",
            "Non-trainable params: 4500832 (17.17 MB)\n",
            "_________________________________________________________________\n"
          ]
        }
      ],
      "source": [
        "from keras.models import Sequential\n",
        "from keras.layers import Conv1D, BatchNormalization, Embedding, Dropout\n",
        "from tensorflow.keras.optimizers import Adadelta\n",
        "# Assuming you have defined DICT_SIZE, weight_matrix, X_train_pad\n",
        "\n",
        "input_shape = (X_train_pad.shape[1],)  # Input shape for 1D convolution\n",
        "vocab_size = 15000\n",
        "embedding_dim = 300\n",
        "sequence_length = MAX_LEN\n",
        "units = 64\n",
        "output_dim = 6\n",
        "model = Sequential()\n",
        "\n",
        "model.add(Embedding(input_dim=DICT_SIZE,\n",
        "                    output_dim=weight_matrix.shape[1],\n",
        "                    input_length=X_train_pad.shape[1],\n",
        "                    weights=[weight_matrix],\n",
        "                    trainable=False))\n",
        "\n",
        "model.add(Conv1D(32, kernel_size=3, activation='relu', input_shape=input_shape))\n",
        "model.add(BatchNormalization())\n",
        "model.add(Conv1D(32, kernel_size=3, activation='relu'))\n",
        "model.add(BatchNormalization())\n",
        "\n",
        "model.add(Conv1D(32, kernel_size=5, strides=2, padding='same', activation='relu'))\n",
        "model.add(BatchNormalization())\n",
        "model.add(Dropout(0.4))\n",
        "\n",
        "model.add(Conv1D(64, kernel_size=3, activation='relu'))\n",
        "model.add(BatchNormalization())\n",
        "model.add(Conv1D(64, kernel_size=3, activation='relu'))\n",
        "model.add(BatchNormalization())\n",
        "model.add(Conv1D(64, kernel_size=5, strides=2, padding='same', activation='relu'))\n",
        "model.add(BatchNormalization())\n",
        "model.add(Dropout(0.4))\n",
        "\n",
        "model.add(Conv1D(128, kernel_size=4, activation='relu'))\n",
        "model.add(BatchNormalization())\n",
        "model.add(Bidirectional(LSTM(128, return_sequences=True)))\n",
        "model.add(Dropout(0.2))\n",
        "model.add(Bidirectional(LSTM(256, return_sequences=True)))\n",
        "model.add(Dropout(0.2))\n",
        "model.add(Bidirectional(LSTM(128, return_sequences=False)))\n",
        "model.add(Dense(6, activation = 'softmax'))\n",
        "model.compile(loss='sparse_categorical_crossentropy', optimizer=Adadelta(learning_rate = 0.001), metrics=['accuracy'])\n",
        "model.summary()"
      ]
    },
    {
      "cell_type": "code",
      "execution_count": null,
      "metadata": {
        "colab": {
          "base_uri": "https://localhost:8080/",
          "height": 104
        },
        "id": "VYG31XR1mnbO",
        "outputId": "8fbdd788-35ca-4c69-cc56-033dab367f99"
      },
      "outputs": [
        {
          "data": {
            "application/vnd.google.colaboratory.intrinsic+json": {
              "type": "string"
            },
            "text/plain": [
              "\"vocab_size = 15000\\nembedding_dim = 300\\nsequence_length = MAX_LEN\\nunits = 64\\noutput_dim = 6\\nmodel = Sequential()\\nmodel.add(Input(shape=(MAX_LEN,)))\\nmodel.add(Embedding(weight_matrix.shape[0], weight_matrix.shape[1], input_length=MAX_LEN, weights = [weight_matrix]))\\nmodel.add(Bidirectional(LSTM(128, return_sequences=True)))\\nmodel.add(Dropout(0.2))\\nmodel.add(Bidirectional(LSTM(256, return_sequences=True)))\\nmodel.add(Dropout(0.2))\\nmodel.add(Bidirectional(LSTM(128, return_sequences=False)))\\nmodel.add(Dense(6, activation='softmax'))\\nmodel.compile(loss='sparse_categorical_crossentropy', optimizer=Adam(learning_rate = 0.001), metrics='accuracy')\\nmodel.summary()\""
            ]
          },
          "execution_count": 22,
          "metadata": {},
          "output_type": "execute_result"
        }
      ],
      "source": [
        "'''vocab_size = 15000\n",
        "embedding_dim = 300\n",
        "sequence_length = MAX_LEN\n",
        "units = 64\n",
        "output_dim = 6\n",
        "model = Sequential()\n",
        "model.add(Input(shape=(MAX_LEN,)))\n",
        "model.add(Embedding(weight_matrix.shape[0], weight_matrix.shape[1], input_length=MAX_LEN, weights = [weight_matrix]))\n",
        "model.add(Bidirectional(LSTM(128, return_sequences=True)))\n",
        "model.add(Dropout(0.2))\n",
        "model.add(Bidirectional(LSTM(256, return_sequences=True)))\n",
        "model.add(Dropout(0.2))\n",
        "model.add(Bidirectional(LSTM(128, return_sequences=False)))\n",
        "model.add(Dense(6, activation='softmax'))\n",
        "model.compile(loss='sparse_categorical_crossentropy', optimizer=Adam(learning_rate = 0.001), metrics='accuracy')\n",
        "model.summary()'''"
      ]
    },
    {
      "cell_type": "code",
      "execution_count": null,
      "metadata": {
        "colab": {
          "background_save": true,
          "base_uri": "https://localhost:8080/"
        },
        "id": "DmPC__hPmnbP",
        "outputId": "86b78d74-6ea1-4af1-bf4f-7c88abdd374f"
      },
      "outputs": [
        {
          "name": "stdout",
          "output_type": "stream",
          "text": [
            "Epoch 1/50\n",
            "2000/2000 [==============================] - 159s 75ms/step - loss: 1.7822 - accuracy: 0.2492 - val_loss: 1.7651 - val_accuracy: 0.3036\n",
            "Epoch 2/50\n",
            "2000/2000 [==============================] - 148s 74ms/step - loss: 1.7622 - accuracy: 0.3101 - val_loss: 1.7398 - val_accuracy: 0.3159\n",
            "Epoch 3/50\n",
            "2000/2000 [==============================] - 148s 74ms/step - loss: 1.7414 - accuracy: 0.3272 - val_loss: 1.7143 - val_accuracy: 0.3181\n",
            "Epoch 4/50\n",
            "2000/2000 [==============================] - 149s 74ms/step - loss: 1.7197 - accuracy: 0.3344 - val_loss: 1.6892 - val_accuracy: 0.3234\n",
            "Epoch 5/50\n",
            "2000/2000 [==============================] - 148s 74ms/step - loss: 1.6975 - accuracy: 0.3351 - val_loss: 1.6647 - val_accuracy: 0.3284\n",
            "Epoch 6/50\n",
            "2000/2000 [==============================] - 150s 75ms/step - loss: 1.6756 - accuracy: 0.3390 - val_loss: 1.6416 - val_accuracy: 0.3341\n",
            "Epoch 7/50\n",
            "2000/2000 [==============================] - 148s 74ms/step - loss: 1.6545 - accuracy: 0.3391 - val_loss: 1.6223 - val_accuracy: 0.3431\n",
            "Epoch 8/50\n",
            "2000/2000 [==============================] - 149s 74ms/step - loss: 1.6353 - accuracy: 0.3402 - val_loss: 1.6083 - val_accuracy: 0.3361\n",
            "Epoch 9/50\n",
            "2000/2000 [==============================] - 148s 74ms/step - loss: 1.6190 - accuracy: 0.3396 - val_loss: 1.5988 - val_accuracy: 0.3361\n",
            "Epoch 10/50\n",
            "2000/2000 [==============================] - 149s 75ms/step - loss: 1.6062 - accuracy: 0.3385 - val_loss: 1.5922 - val_accuracy: 0.3361\n",
            "Epoch 11/50\n",
            "2000/2000 [==============================] - 149s 74ms/step - loss: 1.5963 - accuracy: 0.3393 - val_loss: 1.5882 - val_accuracy: 0.3361\n",
            "Epoch 12/50\n",
            "2000/2000 [==============================] - 149s 74ms/step - loss: 1.5887 - accuracy: 0.3391 - val_loss: 1.5856 - val_accuracy: 0.3359\n",
            "Epoch 13/50\n",
            "2000/2000 [==============================] - 148s 74ms/step - loss: 1.5839 - accuracy: 0.3395 - val_loss: 1.5838 - val_accuracy: 0.3361\n",
            "Epoch 14/50\n",
            "2000/2000 [==============================] - 151s 76ms/step - loss: 1.5802 - accuracy: 0.3389 - val_loss: 1.5826 - val_accuracy: 0.3409\n",
            "Epoch 15/50\n",
            "2000/2000 [==============================] - 148s 74ms/step - loss: 1.5776 - accuracy: 0.3401 - val_loss: 1.5816 - val_accuracy: 0.3418\n",
            "Epoch 16/50\n",
            "2000/2000 [==============================] - 151s 76ms/step - loss: 1.5758 - accuracy: 0.3407 - val_loss: 1.5812 - val_accuracy: 0.3346\n",
            "Epoch 17/50\n",
            "2000/2000 [==============================] - 148s 74ms/step - loss: 1.5749 - accuracy: 0.3404 - val_loss: 1.5807 - val_accuracy: 0.3346\n",
            "Epoch 18/50\n",
            "2000/2000 [==============================] - 148s 74ms/step - loss: 1.5744 - accuracy: 0.3410 - val_loss: 1.5803 - val_accuracy: 0.3313\n",
            "Epoch 19/50\n",
            "2000/2000 [==============================] - 147s 74ms/step - loss: 1.5736 - accuracy: 0.3417 - val_loss: 1.5802 - val_accuracy: 0.3301\n",
            "Epoch 20/50\n",
            "2000/2000 [==============================] - 147s 74ms/step - loss: 1.5731 - accuracy: 0.3422 - val_loss: 1.5798 - val_accuracy: 0.3324\n",
            "Epoch 21/50\n",
            "2000/2000 [==============================] - 148s 74ms/step - loss: 1.5728 - accuracy: 0.3424 - val_loss: 1.5795 - val_accuracy: 0.3334\n",
            "Epoch 22/50\n",
            "2000/2000 [==============================] - 146s 73ms/step - loss: 1.5725 - accuracy: 0.3434 - val_loss: 1.5793 - val_accuracy: 0.3332\n",
            "Epoch 23/50\n",
            "2000/2000 [==============================] - 147s 73ms/step - loss: 1.5721 - accuracy: 0.3435 - val_loss: 1.5792 - val_accuracy: 0.3313\n",
            "Epoch 24/50\n",
            "2000/2000 [==============================] - 147s 74ms/step - loss: 1.5715 - accuracy: 0.3436 - val_loss: 1.5789 - val_accuracy: 0.3310\n",
            "Epoch 25/50\n",
            "2000/2000 [==============================] - 147s 73ms/step - loss: 1.5711 - accuracy: 0.3446 - val_loss: 1.5788 - val_accuracy: 0.3336\n",
            "Epoch 26/50\n",
            "2000/2000 [==============================] - 147s 74ms/step - loss: 1.5709 - accuracy: 0.3435 - val_loss: 1.5787 - val_accuracy: 0.3304\n",
            "Epoch 27/50\n",
            "2000/2000 [==============================] - 147s 73ms/step - loss: 1.5709 - accuracy: 0.3450 - val_loss: 1.5785 - val_accuracy: 0.3329\n",
            "Epoch 28/50\n",
            "2000/2000 [==============================] - 147s 73ms/step - loss: 1.5705 - accuracy: 0.3459 - val_loss: 1.5783 - val_accuracy: 0.3339\n",
            "Epoch 29/50\n",
            "2000/2000 [==============================] - 148s 74ms/step - loss: 1.5705 - accuracy: 0.3472 - val_loss: 1.5780 - val_accuracy: 0.3363\n",
            "Epoch 30/50\n",
            "2000/2000 [==============================] - 147s 74ms/step - loss: 1.5707 - accuracy: 0.3469 - val_loss: 1.5778 - val_accuracy: 0.3363\n",
            "Epoch 31/50\n",
            "2000/2000 [==============================] - 148s 74ms/step - loss: 1.5703 - accuracy: 0.3474 - val_loss: 1.5777 - val_accuracy: 0.3373\n",
            "Epoch 32/50\n",
            "2000/2000 [==============================] - 149s 74ms/step - loss: 1.5699 - accuracy: 0.3483 - val_loss: 1.5774 - val_accuracy: 0.3386\n",
            "Epoch 33/50\n",
            "2000/2000 [==============================] - 148s 74ms/step - loss: 1.5695 - accuracy: 0.3494 - val_loss: 1.5772 - val_accuracy: 0.3376\n",
            "Epoch 34/50\n",
            "2000/2000 [==============================] - 148s 74ms/step - loss: 1.5692 - accuracy: 0.3497 - val_loss: 1.5771 - val_accuracy: 0.3363\n",
            "Epoch 35/50\n",
            "2000/2000 [==============================] - 147s 73ms/step - loss: 1.5690 - accuracy: 0.3510 - val_loss: 1.5768 - val_accuracy: 0.3386\n",
            "Epoch 36/50\n",
            "2000/2000 [==============================] - 143s 72ms/step - loss: 1.5684 - accuracy: 0.3530 - val_loss: 1.5767 - val_accuracy: 0.3408\n",
            "Epoch 37/50\n",
            "2000/2000 [==============================] - 143s 71ms/step - loss: 1.5681 - accuracy: 0.3528 - val_loss: 1.5764 - val_accuracy: 0.3404\n",
            "Epoch 38/50\n",
            "2000/2000 [==============================] - 142s 71ms/step - loss: 1.5672 - accuracy: 0.3561 - val_loss: 1.5759 - val_accuracy: 0.3416\n",
            "Epoch 39/50\n",
            "2000/2000 [==============================] - 144s 72ms/step - loss: 1.5670 - accuracy: 0.3550 - val_loss: 1.5756 - val_accuracy: 0.3419\n",
            "Epoch 40/50\n",
            "2000/2000 [==============================] - 153s 77ms/step - loss: 1.5665 - accuracy: 0.3583 - val_loss: 1.5752 - val_accuracy: 0.3439\n",
            "Epoch 41/50\n",
            "2000/2000 [==============================] - 146s 73ms/step - loss: 1.5661 - accuracy: 0.3575 - val_loss: 1.5747 - val_accuracy: 0.3462\n",
            "Epoch 42/50\n",
            "2000/2000 [==============================] - 150s 75ms/step - loss: 1.5652 - accuracy: 0.3591 - val_loss: 1.5738 - val_accuracy: 0.3469\n",
            "Epoch 43/50\n",
            "2000/2000 [==============================] - 145s 72ms/step - loss: 1.5641 - accuracy: 0.3610 - val_loss: 1.5733 - val_accuracy: 0.3481\n",
            "Epoch 44/50\n",
            "2000/2000 [==============================] - 148s 74ms/step - loss: 1.5634 - accuracy: 0.3636 - val_loss: 1.5721 - val_accuracy: 0.3498\n",
            "Epoch 45/50\n",
            "2000/2000 [==============================] - 145s 72ms/step - loss: 1.5620 - accuracy: 0.3638 - val_loss: 1.5708 - val_accuracy: 0.3471\n",
            "Epoch 46/50\n",
            "2000/2000 [==============================] - 150s 75ms/step - loss: 1.5608 - accuracy: 0.3655 - val_loss: 1.5696 - val_accuracy: 0.3506\n",
            "Epoch 47/50\n",
            "2000/2000 [==============================] - 146s 73ms/step - loss: 1.5591 - accuracy: 0.3700 - val_loss: 1.5677 - val_accuracy: 0.3541\n",
            "Epoch 48/50\n",
            "2000/2000 [==============================] - 146s 73ms/step - loss: 1.5570 - accuracy: 0.3726 - val_loss: 1.5656 - val_accuracy: 0.3554\n",
            "Epoch 49/50\n",
            "2000/2000 [==============================] - 146s 73ms/step - loss: 1.5551 - accuracy: 0.3754 - val_loss: 1.5629 - val_accuracy: 0.3607\n",
            "Epoch 50/50\n",
            "2000/2000 [==============================] - 146s 73ms/step - loss: 1.5512 - accuracy: 0.3804 - val_loss: 1.5594 - val_accuracy: 0.3666\n"
          ]
        },
        {
          "data": {
            "application/vnd.google.colaboratory.intrinsic+json": {
              "type": "string"
            },
            "text/plain": [
              "'history = model.fit(X_train_pad, y_train,\\n                    validation_data = (X_val_pad, y_validation),\\n                    batch_size = 8,\\n                    epochs = 10,\\n                    callbacks = stop)'"
            ]
          },
          "execution_count": 23,
          "metadata": {},
          "output_type": "execute_result"
        }
      ],
      "source": [
        "history=model.fit(X_train_pad, y_train,\n",
        "                    validation_data = (X_val_pad, y_validation),\n",
        "                    batch_size = 32,\n",
        "                    epochs = 50)\n",
        "'''history = model.fit(X_train_pad, y_train,\n",
        "                    validation_data = (X_val_pad, y_validation),\n",
        "                    batch_size = 8,\n",
        "                    epochs = 10,\n",
        "                    callbacks = stop)'''"
      ]
    },
    {
      "cell_type": "code",
      "execution_count": null,
      "metadata": {
        "colab": {
          "background_save": true
        },
        "id": "s3IW8lBBbHG-",
        "outputId": "3500eec5-0190-49ce-df18-da73aed5c3df"
      },
      "outputs": [
        {
          "name": "stdout",
          "output_type": "stream",
          "text": [
            "625/625 [==============================] - 9s 15ms/step - loss: 1.5478 - accuracy: 0.3789\n"
          ]
        },
        {
          "data": {
            "text/plain": [
              "[1.547770619392395, 0.37894999980926514]"
            ]
          },
          "execution_count": 24,
          "metadata": {},
          "output_type": "execute_result"
        }
      ],
      "source": [
        "model.evaluate(X_test_pad, y_test)"
      ]
    },
    {
      "cell_type": "code",
      "execution_count": null,
      "metadata": {
        "colab": {
          "background_save": true
        },
        "id": "L39Jjl17lPlH"
      },
      "outputs": [],
      "source": []
    },
    {
      "cell_type": "code",
      "execution_count": null,
      "metadata": {
        "colab": {
          "background_save": true
        },
        "id": "x2HmV-rulOTu"
      },
      "outputs": [],
      "source": [
        "def plot_history(history):\n",
        "    '''\n",
        "    Plots training and validation accuracy and loss\n",
        "    Accepts a single param - history, where\n",
        "    history - keras.callbacks.History object\n",
        "    Returns nothing\n",
        "\n",
        "    '''\n",
        "    loss = history.history['loss']\n",
        "    accuracy = history.history['accuracy']\n",
        "    val_loss = history.history['val_loss']\n",
        "    val_accuracy = history.history['val_accuracy']\n",
        "    x = range(1, len(loss) + 1)\n",
        "\n",
        "    plt.figure(figsize=(12, 5))\n",
        "    plt.subplot(1, 2, 1)\n",
        "    plt.plot(x, accuracy, label='Training acc', color='#707bfb')\n",
        "    plt.plot(x, val_accuracy, label='Validation acc', color='#fbcbff')\n",
        "    plt.title('Training and validation accuracy')\n",
        "    plt.grid(True)\n",
        "    plt.legend()\n",
        "\n",
        "    plt.subplot(1, 2, 2)\n",
        "    plt.plot(x, loss, label='Training loss', color='#707bfb')\n",
        "    plt.plot(x, val_loss, label='Validation loss', color='#fbcbff')\n",
        "    plt.title('Training and validation loss')\n",
        "    plt.grid(True)\n",
        "    plt.legend()"
      ]
    },
    {
      "cell_type": "code",
      "execution_count": null,
      "metadata": {
        "colab": {
          "background_save": true
        },
        "id": "tbtw6BCD0aqh",
        "outputId": "a0da33aa-a395-4df7-e5d0-f88df3f5a718"
      },
      "outputs": [
        {
          "data": {
            "image/png": "[encoded data removed]",
            "text/plain": [
              "<Figure size 1200x500 with 2 Axes>"
            ]
          },
          "metadata": {},
          "output_type": "display_data"
        }
      ],
      "source": [
        "plot_history(history)"
      ]
    },
    {
      "cell_type": "code",
      "execution_count": null,
      "metadata": {
        "colab": {
          "background_save": true
        },
        "id": "kzFXIRhKlWyr",
        "outputId": "d511b390-dc80-46c0-e1f8-3defe1853572"
      },
      "outputs": [
        {
          "name": "stdout",
          "output_type": "stream",
          "text": [
            "625/625 [==============================] - 10s 15ms/step - loss: 1.5478 - accuracy: 0.3789\n",
            "625/625 [==============================] - 11s 15ms/step\n",
            "              precision    recall  f1-score   support\n",
            "\n",
            "           0       0.00      0.00      0.00      2709\n",
            "           1       0.00      0.00      0.00      1641\n",
            "           2       0.00      0.00      0.00      2373\n",
            "           3       0.43      0.54      0.48      6761\n",
            "           4       0.34      0.68      0.45      5797\n",
            "           5       0.00      0.00      0.00       719\n",
            "\n",
            "    accuracy                           0.38     20000\n",
            "   macro avg       0.13      0.20      0.16     20000\n",
            "weighted avg       0.24      0.38      0.29     20000\n",
            "\n"
          ]
        },
        {
          "name": "stderr",
          "output_type": "stream",
          "text": [
            "/usr/local/lib/python3.10/dist-packages/sklearn/metrics/_classification.py:1344: UndefinedMetricWarning: Precision and F-score are ill-defined and being set to 0.0 in labels with no predicted samples. Use `zero_division` parameter to control this behavior.\n",
            "  _warn_prf(average, modifier, msg_start, len(result))\n",
            "/usr/local/lib/python3.10/dist-packages/sklearn/metrics/_classification.py:1344: UndefinedMetricWarning: Precision and F-score are ill-defined and being set to 0.0 in labels with no predicted samples. Use `zero_division` parameter to control this behavior.\n",
            "  _warn_prf(average, modifier, msg_start, len(result))\n",
            "/usr/local/lib/python3.10/dist-packages/sklearn/metrics/_classification.py:1344: UndefinedMetricWarning: Precision and F-score are ill-defined and being set to 0.0 in labels with no predicted samples. Use `zero_division` parameter to control this behavior.\n",
            "  _warn_prf(average, modifier, msg_start, len(result))\n"
          ]
        }
      ],
      "source": [
        "model.evaluate(X_test_pad, y_test)\n",
        "y_pred = np.argmax(model.predict(X_test_pad), axis=1)\n",
        "from sklearn import metrics\n",
        "print(metrics.classification_report(y_test, y_pred))"
      ]
    },
    {
      "cell_type": "code",
      "execution_count": null,
      "metadata": {
        "colab": {
          "background_save": true
        },
        "id": "Yn0dqZXMmjxz"
      },
      "outputs": [],
      "source": [
        "# setting a custom colormap\n",
        "from matplotlib.colors import LinearSegmentedColormap\n",
        "colors = ['#ffffff', '#fbcbff', '#707bfb']\n",
        "cmap = LinearSegmentedColormap.from_list('mycmap', colors)"
      ]
    },
    {
      "cell_type": "code",
      "execution_count": null,
      "metadata": {
        "colab": {
          "background_save": true
        },
        "id": "Bz-3Bsl8mkZQ"
      },
      "outputs": [],
      "source": [
        "def plot_confusion_matrix(matrix, fmt=''):\n",
        "  '''\n",
        "  Accepts a confusion matrix and a format param\n",
        "  Plots the matrix as a heatmap\n",
        "  Returns nothing\n",
        "\n",
        "  '''\n",
        "  plt.figure(figsize=(6, 5))\n",
        "  sns.heatmap(matrix, annot=True,\n",
        "              cmap=cmap,\n",
        "              fmt=fmt,\n",
        "              xticklabels=emotions_to_labels.keys(),\n",
        "              yticklabels=emotions_to_labels.keys())\n",
        "  plt.ylabel('True labels')\n",
        "  plt.xlabel('Predicted labels')\n",
        "  plt.show()"
      ]
    },
    {
      "cell_type": "code",
      "execution_count": null,
      "metadata": {
        "colab": {
          "background_save": true
        },
        "id": "dHmiabe5mqu8",
        "outputId": "ff29478d-3814-4640-8bc2-52b478ab4d7f"
      },
      "outputs": [
        {
          "data": {
            "image/png": "[encoded data removed]",
            "text/plain": [
              "<Figure size 600x500 with 2 Axes>"
            ]
          },
          "metadata": {},
          "output_type": "display_data"
        }
      ],
      "source": [
        "matrix = metrics.confusion_matrix(y_test, y_pred)\n",
        "plot_confusion_matrix(matrix)"
      ]
    },
    {
      "cell_type": "code",
      "execution_count": null,
      "metadata": {
        "colab": {
          "background_save": true
        },
        "id": "FcBx5ahLmuEG",
        "outputId": "cbd9420b-3ab6-42fb-b82a-1b0676d07559"
      },
      "outputs": [
        {
          "data": {
            "image/png": "[encoded data removed]",
            "text/plain": [
              "<Figure size 600x500 with 2 Axes>"
            ]
          },
          "metadata": {},
          "output_type": "display_data"
        }
      ],
      "source": [
        "# create new confusion matrix\n",
        "# where values are normed by row\n",
        "matrix_new = np.zeros(matrix.shape)\n",
        "\n",
        "for row in range(len(matrix)):\n",
        "  sum = np.sum(matrix[row])\n",
        "  for element in range(len(matrix[row])):\n",
        "    matrix_new[row][element] = matrix[row][element] / sum\n",
        "\n",
        "plot_confusion_matrix(matrix_new, fmt='.2')"
      ]
    },
    {
      "cell_type": "code",
      "execution_count": null,
      "metadata": {
        "colab": {
          "background_save": true
        },
        "id": "FEldcTlTm0Qb"
      },
      "outputs": [],
      "source": [
        "def predict(texts):\n",
        "  '''\n",
        "  Accepts array if texts (strings)\n",
        "  Prints sentence and the corresponding label (emotion)\n",
        "  Returns nothing\n",
        "\n",
        "  '''\n",
        "  texts_prepr = [text_preprocess(t) for t in texts]\n",
        "  sequences = tokenizer.texts_to_sequences(texts_prepr)\n",
        "  pad = pad_sequences(sequences, maxlen=MAX_LEN)\n",
        "\n",
        "  predictions = model.predict(pad)\n",
        "  labels = np.argmax(predictions, axis=1)\n",
        "\n",
        "  for i, lbl in enumerate(labels):\n",
        "    print(f'\\'{texts[i]}\\' --> {labels_to_emotions[lbl]}')"
      ]
    },
    {
      "cell_type": "code",
      "execution_count": null,
      "metadata": {
        "colab": {
          "background_save": true
        },
        "id": "XNlVgJVqm2rX",
        "outputId": "fa61b29c-3461-420f-f838-925132a8709d"
      },
      "outputs": [
        {
          "name": "stdout",
          "output_type": "stream",
          "text": [
            "1/1 [==============================] - 2s 2s/step\n",
            "'I am so happy in the way you behaved today' --> sadness\n",
            "'The man felt lonely' --> sadness\n",
            "'The guests felt satisfied' --> sadness\n"
          ]
        }
      ],
      "source": [
        "test_texts = ['I am so happy in the way you behaved today', 'The man felt lonely', 'The guests felt satisfied']\n",
        "\n",
        "predict(test_texts)"
      ]
    }
  ],
  "metadata": {
    "colab": {
      "provenance": []
    },
    "kernelspec": {
      "display_name": "Python 3",
      "name": "python3"
    },
    "language_info": {
      "name": "python"
    }
  },
  "nbformat": 4,
  "nbformat_minor": 0
}